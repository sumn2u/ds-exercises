{
  "metadata": {
    "language_info": {
      "codemirror_mode": {
        "name": "python",
        "version": 3
      },
      "file_extension": ".py",
      "mimetype": "text/x-python",
      "name": "python",
      "nbconvert_exporter": "python",
      "pygments_lexer": "ipython3",
      "version": "3.8"
    },
    "kernelspec": {
      "name": "python",
      "display_name": "Python (Pyodide)",
      "language": "python"
    }
  },
  "nbformat_minor": 4,
  "nbformat": 4,
  "cells": [
    {
      "cell_type": "markdown",
      "source": "# Welcome to Jupyterlite Notebook",
      "metadata": {}
    },
    {
      "cell_type": "markdown",
      "source": "## Introduction",
      "metadata": {}
    },
    {
      "cell_type": "markdown",
      "source": "### Data science languages\n- Python\n- R\n- Julia\n- Scala\n- Java\n- JavaScript",
      "metadata": {}
    },
    {
      "cell_type": "markdown",
      "source": "### Data science libraries\n1. Tenserflow\n2. scikit-learn\n3. Pandas\n4. Keras\n5. Pytorch\n6. Seaborn",
      "metadata": {}
    },
    {
      "cell_type": "markdown",
      "source": "### Data Science tools\n| Tool | Description |\n|---|---|\n| JupyterLab | A web-based interactive development environment for notebooks, code, and data. |\n| NumPy | A fundamental Python library for scientific computing with Python. |\n| Pandas | Python library for data analysis and manipulation. |\n| Matplotlib | Python library for data visualization. |\n| Scikit-learn | Python library for machine learning. |\n| TensorFlow | Python library for deep learning. |\n",
      "metadata": {}
    },
    {
      "cell_type": "markdown",
      "source": "Arithmetic expression examples:\n* 5 + 3\n* 7 - 2\n* 2 * 4\n* 6 / 3\n* 2 ** 3",
      "metadata": {}
    },
    {
      "cell_type": "markdown",
      "source": "Code cell to multiply and add numbers",
      "metadata": {}
    },
    {
      "cell_type": "code",
      "source": "a = 5\nb = 10\nadd_result = a + b\nmul_result = a * b\n\nprint(\"add result: \", add_result)\nprint(\"multiply result: \", mul_result)",
      "metadata": {
        "trusted": true
      },
      "execution_count": 5,
      "outputs": [
        {
          "name": "stdout",
          "text": "add result:  15\nmultiply result:  50\n",
          "output_type": "stream"
        }
      ]
    },
    {
      "cell_type": "markdown",
      "source": " Code cell to convert minutes to hours. ",
      "metadata": {}
    },
    {
      "cell_type": "code",
      "source": "minutes = 330\nin_hrs = minutes / 60\nprint(\"The number of hours in 330 minutes is:\",in_hrs)",
      "metadata": {
        "trusted": true
      },
      "execution_count": 9,
      "outputs": [
        {
          "name": "stdout",
          "text": "The number of hours in 330 minutes is: 5.5\n",
          "output_type": "stream"
        }
      ]
    },
    {
      "cell_type": "markdown",
      "source": "**Objectives**\n\n1. Objective 1\n2. Objective 2\n3. Objective 3",
      "metadata": {}
    },
    {
      "cell_type": "markdown",
      "source": "Author: Suman",
      "metadata": {}
    },
    {
      "cell_type": "code",
      "source": "",
      "metadata": {},
      "execution_count": null,
      "outputs": []
    }
  ]
}